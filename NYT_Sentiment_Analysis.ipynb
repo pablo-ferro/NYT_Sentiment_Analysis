{
 "cells": [
  {
   "cell_type": "code",
   "execution_count": 2,
   "metadata": {},
   "outputs": [
    {
     "name": "stdout",
     "output_type": "stream",
     "text": [
      "Collecting pynytimes\n",
      "  Downloading pynytimes-0.8.0-py3-none-any.whl (21 kB)\n",
      "Requirement already satisfied, skipping upgrade: urllib3 in /opt/anaconda3/lib/python3.8/site-packages (from pynytimes) (1.26.4)\n",
      "Requirement already satisfied, skipping upgrade: requests<3.0.0,>=2.10.0 in /opt/anaconda3/lib/python3.8/site-packages (from pynytimes) (2.25.1)\n",
      "Requirement already satisfied, skipping upgrade: idna<3,>=2.5 in /opt/anaconda3/lib/python3.8/site-packages (from requests<3.0.0,>=2.10.0->pynytimes) (2.10)\n",
      "Requirement already satisfied, skipping upgrade: certifi>=2017.4.17 in /opt/anaconda3/lib/python3.8/site-packages (from requests<3.0.0,>=2.10.0->pynytimes) (2020.6.20)\n",
      "Requirement already satisfied, skipping upgrade: chardet<5,>=3.0.2 in /opt/anaconda3/lib/python3.8/site-packages (from requests<3.0.0,>=2.10.0->pynytimes) (3.0.4)\n",
      "Installing collected packages: pynytimes\n",
      "Successfully installed pynytimes-0.8.0\n",
      "Note: you may need to restart the kernel to use updated packages.\n"
     ]
    }
   ],
   "source": [
    "#pip install --upgrade pynytimes"
   ]
  },
  {
   "cell_type": "code",
   "execution_count": 3,
   "metadata": {},
   "outputs": [],
   "source": [
    "# pynytimes documentation: https://github.com/michadenheijer/pynytimes#archive-metadata\n",
    "from pynytimes import NYTAPI\n",
    "import datetime\n",
    "import pandas as pd\n",
    "import json"
   ]
  },
  {
   "cell_type": "code",
   "execution_count": 4,
   "metadata": {},
   "outputs": [],
   "source": [
    "#Get API secret key from here: https://developer.nytimes.com/get-started"
   ]
  },
  {
   "cell_type": "code",
   "execution_count": null,
   "metadata": {},
   "outputs": [],
   "source": []
  }
 ],
 "metadata": {
  "kernelspec": {
   "display_name": "Python 3",
   "language": "python",
   "name": "python3"
  },
  "language_info": {
   "codemirror_mode": {
    "name": "ipython",
    "version": 3
   },
   "file_extension": ".py",
   "mimetype": "text/x-python",
   "name": "python",
   "nbconvert_exporter": "python",
   "pygments_lexer": "ipython3",
   "version": "3.8.5"
  }
 },
 "nbformat": 4,
 "nbformat_minor": 4
}
