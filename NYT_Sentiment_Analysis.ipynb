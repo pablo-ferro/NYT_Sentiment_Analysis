{
 "cells": [
  {
   "cell_type": "code",
   "execution_count": 1,
   "metadata": {
    "scrolled": true
   },
   "outputs": [],
   "source": [
    "#pip install --upgrade pynytimes"
   ]
  },
  {
   "cell_type": "markdown",
   "metadata": {},
   "source": [
    "pynytimes documentation: https://github.com/michadenheijer/pynytimes#archive-metadata"
   ]
  },
  {
   "cell_type": "code",
   "execution_count": 2,
   "metadata": {},
   "outputs": [],
   "source": [
    "from pynytimes import NYTAPI\n",
    "import datetime\n",
    "import pandas as pd\n",
    "import json"
   ]
  },
  {
   "cell_type": "markdown",
   "metadata": {},
   "source": [
    "Get API secret key from here: https://developer.nytimes.com/get-started"
   ]
  },
  {
   "cell_type": "code",
   "execution_count": 29,
   "metadata": {},
   "outputs": [],
   "source": [
    "secretAPIkey = 'your-secret-key'"
   ]
  },
  {
   "cell_type": "code",
   "execution_count": 5,
   "metadata": {},
   "outputs": [],
   "source": [
    "# initiate connection w/ personal API key\n",
    "nyt = NYTAPI(secretAPIkey, parse_dates=True)"
   ]
  },
  {
   "cell_type": "code",
   "execution_count": 6,
   "metadata": {},
   "outputs": [
    {
     "name": "stdout",
     "output_type": "stream",
     "text": [
      "{'Bush': {'first_year': 2001}, 'Obama': {'first_year': 2009}, 'Trump': {'first_year': 2017}, 'Biden': {'first_year': 2021}}\n",
      "['Business', 'National', 'Politics', 'World']\n"
     ]
    }
   ],
   "source": [
    "# create dictionary to store results\n",
    "presidents = {\n",
    "    'Bush': {'first_year':2001},\n",
    "    'Obama': {'first_year':2009},\n",
    "    'Trump': {'first_year':2017},\n",
    "    'Biden': {'first_year':2021}\n",
    "    }\n",
    "\n",
    "# relevant sections of NYT\n",
    "sections =['Business', 'National', 'Politics', 'World']\n",
    "\n",
    "print(presidents)\n",
    "print(sections)"
   ]
  },
  {
   "cell_type": "code",
   "execution_count": 9,
   "metadata": {},
   "outputs": [
    {
     "name": "stdout",
     "output_type": "stream",
     "text": [
      "done\n"
     ]
    }
   ],
   "source": [
    "# create dictionary to store results\n",
    "presidents = {\n",
    "    'Bush': {'first_year':2001},\n",
    "    'Obama': {'first_year':2009},\n",
    "    'Trump': {'first_year':2017},\n",
    "    'Biden': {'first_year':2021}\n",
    "    }\n",
    "\n",
    "# relevant sections of NYT\n",
    "sections =['Business', 'National', 'Politics', 'World']\n",
    "\n",
    "# pull data, store in appropriate dictionary\n",
    "for president in presidents:\n",
    "    \n",
    "    # create empty dictionary to contain all abstracts and  abstracts with direct mentions of president's last name\n",
    "    presidents[president]['abstracts'] = {}\n",
    "    presidents[president]['direct_mentions'] = {}\n",
    "    \n",
    "    for m in range(1,13):\n",
    "        # add month as key to abstracts/direct mentions dicts, set value to empty list\n",
    "        presidents[president]['abstracts'][str(m)] = []\n",
    "        presidents[president]['direct_mentions'][str(m)] = [] \n",
    "        \n",
    "        # create datetime object from month and query NYT archives\n",
    "        month = datetime.datetime(presidents[president]['first_year'], m, 1)\n",
    "        data = nyt.archive_metadata(date = month)\n",
    "        # check if article published in relevant section, and if president's name is directly mentioned\n",
    "        for article in data:\n",
    "            if article['section_name'] in sections:\n",
    "                abstract = article['abstract']\n",
    "                presidents[president]['abstracts'][str(m)].append(abstract)\n",
    "                if president in abstract:\n",
    "                    presidents[president]['direct_mentions'][str(m)].append(abstract)\n",
    "\n",
    "# save results to a json file so we do not need to pull data again #C:\\Users\\abode\\Documents\\Data Science\\NYT\\data.json \n",
    "with open(r'/Users/pablofernandezrodriguez/Desktop/data22/220111_NLP_NYT_Tensorflow/data.json', 'w') as f:\n",
    "    json.dump(presidents, f)\n",
    "    \n",
    "print('done')"
   ]
  },
  {
   "cell_type": "code",
   "execution_count": 10,
   "metadata": {},
   "outputs": [],
   "source": [
    "nyt.close()"
   ]
  },
  {
   "cell_type": "markdown",
   "metadata": {},
   "source": [
    "### Sentiment Analysis"
   ]
  },
  {
   "cell_type": "code",
   "execution_count": 11,
   "metadata": {},
   "outputs": [],
   "source": [
    "from textblob import TextBlob"
   ]
  },
  {
   "cell_type": "code",
   "execution_count": 25,
   "metadata": {},
   "outputs": [],
   "source": [
    "def get_abstract_sentiment_polarity(abstract):\n",
    "    analysis = TextBlob(abstract)\n",
    "    if analysis.sentiment.polarity > 0:\n",
    "        return 'Positive'\n",
    "    elif analysis.sentiment.polarity == 0:\n",
    "        return 'Neutral'\n",
    "    else:\n",
    "        return 'Negative'\n",
    "\n",
    "def get_abstract_subjectivity(abstract):\n",
    "    analysis = TextBlob(abstract)\n",
    "    if analysis.sentiment.subjectivity > 0.5:\n",
    "        return 'Objective'\n",
    "    else:\n",
    "        return 'Subjective'    "
   ]
  },
  {
   "cell_type": "code",
   "execution_count": 26,
   "metadata": {},
   "outputs": [
    {
     "name": "stdout",
     "output_type": "stream",
     "text": [
      "A fire at a high-end Bangkok nightclub killed at least 59 people and injured more than 200 shortly after midnight as revelers were celebrating the new year, the police said.\n",
      "    \n",
      "Sentiment calculated:  Positive\n",
      "This abstract is:  Subjective \n",
      "\n",
      "Massing tanks and troops along the Gaza border, Israel pursued diplomatic avenues to explain its positions, and a strike killed a Hamas leader.\n",
      "    \n",
      "Sentiment calculated:  Negative\n",
      "This abstract is:  Subjective \n",
      "\n",
      "The Russian energy giant Gazprom shut natural gas deliveries in a move that could spell shortages for Europe.\n",
      "    \n",
      "Sentiment calculated:  Positive\n",
      "This abstract is:  Subjective \n",
      "\n",
      "Taliban militants attacked police assigned to protect an official, killing 20 of them in one of the bloodiest attacks on the security forces in months, local officials reported.\n",
      "    \n",
      "Sentiment calculated:  Neutral\n",
      "This abstract is:  Subjective \n",
      "\n",
      "Mrs. Suzman befriended the imprisoned Nelson Mandela and offered an often lonely voice for change among South Africa’s white minority.\n",
      "    \n",
      "Sentiment calculated:  Negative\n",
      "This abstract is:  Subjective \n",
      "\n",
      "Control of the Green Zone reverted to Iraqi control as part of the recent security agreement with the U.S.\n",
      "    \n",
      "Sentiment calculated:  Negative\n",
      "This abstract is:  Subjective \n",
      "\n"
     ]
    }
   ],
   "source": [
    "for abstract in presidents['Obama']['abstracts']['1'][10:16]:\n",
    "    print(abstract)\n",
    "    print(\"    \")\n",
    "    print(\"Sentiment calculated: \", get_abstract_sentiment_polarity(abstract))\n",
    "    print(\"This abstract is: \",get_abstract_subjectivity(abstract), '\\n')"
   ]
  },
  {
   "cell_type": "code",
   "execution_count": 28,
   "metadata": {},
   "outputs": [
    {
     "name": "stdout",
     "output_type": "stream",
     "text": [
      "The death of U Ko Ni, a Muslim and an adviser to Myanmar’s leader, has raised new concerns about the country’s rocky transition to democracy.\n",
      "    \n",
      "Sentiment calculated:  Positive\n",
      "This abstract is:  Subjective \n",
      "\n",
      "Even as officials forcibly evacuated the illegal Amona settlement, two moves by Israel opened a forceful new phase of expansion into land the Palestinians claim for a future state.\n",
      "    \n",
      "Sentiment calculated:  Positive\n",
      "This abstract is:  Objective \n",
      "\n",
      "The armed wing of the Communist Party of the Philippines accused the government of failing to release political prisoners and the military of encroaching on rebel territory.\n",
      "    \n",
      "Sentiment calculated:  Negative\n",
      "This abstract is:  Subjective \n",
      "\n",
      "Leaders like Vladimir V. Putin of Russia and Rodrigo Duterte of the Philippines seem to see a respite from criticism and a chance to advance nationalist goals.\n",
      "    \n",
      "Sentiment calculated:  Neutral\n",
      "This abstract is:  Subjective \n",
      "\n",
      "The former U.N. chief’s surprise announcement deprived conservatives of their likeliest candidate to succeed the sidelined president, Park Geun-hye.\n",
      "    \n",
      "Sentiment calculated:  Neutral\n",
      "This abstract is:  Subjective \n",
      "\n"
     ]
    }
   ],
   "source": [
    "for abstract in presidents['Trump']['abstracts']['2'][5:10]:\n",
    "    print(abstract)\n",
    "    print(\"    \")\n",
    "    print(\"Sentiment calculated: \", get_abstract_sentiment_polarity(abstract))\n",
    "    print(\"This abstract is: \",get_abstract_subjectivity(abstract), '\\n')"
   ]
  },
  {
   "cell_type": "code",
   "execution_count": null,
   "metadata": {},
   "outputs": [],
   "source": []
  }
 ],
 "metadata": {
  "kernelspec": {
   "display_name": "Python 3",
   "language": "python",
   "name": "python3"
  },
  "language_info": {
   "codemirror_mode": {
    "name": "ipython",
    "version": 3
   },
   "file_extension": ".py",
   "mimetype": "text/x-python",
   "name": "python",
   "nbconvert_exporter": "python",
   "pygments_lexer": "ipython3",
   "version": "3.8.5"
  }
 },
 "nbformat": 4,
 "nbformat_minor": 4
}
